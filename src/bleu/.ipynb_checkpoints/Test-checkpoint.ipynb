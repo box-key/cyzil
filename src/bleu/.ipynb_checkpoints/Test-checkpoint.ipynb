{
 "cells": [
  {
   "cell_type": "code",
   "execution_count": 7,
   "metadata": {},
   "outputs": [],
   "source": [
    "from collections import Counter"
   ]
  },
  {
   "cell_type": "code",
   "execution_count": 14,
   "metadata": {},
   "outputs": [],
   "source": [
    "ref = ['He', 'went', 'to', 'the', 'zoo']\n",
    "hyp = ['He', 'went', 'to', 'the', 'zoo']"
   ]
  },
  {
   "cell_type": "code",
   "execution_count": 29,
   "metadata": {},
   "outputs": [],
   "source": [
    "max_order=4\n",
    "segment = ref\n",
    "\n",
    "ngram_counts_ref = Counter()\n",
    "for order in range(1, max_order + 1):\n",
    "    for i in range(0, len(segment) - order + 1):\n",
    "        ngram = tuple(segment[i:i+order])\n",
    "        ngram_counts_ref[ngram] += 1"
   ]
  },
  {
   "cell_type": "code",
   "execution_count": 30,
   "metadata": {},
   "outputs": [
    {
     "data": {
      "text/plain": [
       "Counter({('He',): 1,\n",
       "         ('went',): 1,\n",
       "         ('to',): 1,\n",
       "         ('the',): 1,\n",
       "         ('zoo',): 1,\n",
       "         ('He', 'went'): 1,\n",
       "         ('went', 'to'): 1,\n",
       "         ('to', 'the'): 1,\n",
       "         ('the', 'zoo'): 1,\n",
       "         ('He', 'went', 'to'): 1,\n",
       "         ('went', 'to', 'the'): 1,\n",
       "         ('to', 'the', 'zoo'): 1,\n",
       "         ('He', 'went', 'to', 'the'): 1,\n",
       "         ('went', 'to', 'the', 'zoo'): 1})"
      ]
     },
     "execution_count": 30,
     "metadata": {},
     "output_type": "execute_result"
    }
   ],
   "source": [
    "ngram_counts_ref"
   ]
  },
  {
   "cell_type": "code",
   "execution_count": 31,
   "metadata": {},
   "outputs": [],
   "source": [
    "max_order=4\n",
    "segment = hyp\n",
    "\n",
    "ngram_counts_hyp = Counter()\n",
    "for order in range(1, max_order + 1):\n",
    "    for i in range(0, len(segment) - order + 1):\n",
    "        ngram = tuple(segment[i:i+order])\n",
    "        ngram_counts_hyp[ngram] += 1"
   ]
  },
  {
   "cell_type": "code",
   "execution_count": 32,
   "metadata": {},
   "outputs": [
    {
     "data": {
      "text/plain": [
       "Counter({('He',): 1,\n",
       "         ('went',): 1,\n",
       "         ('to',): 1,\n",
       "         ('the',): 1,\n",
       "         ('zoo',): 1,\n",
       "         ('He', 'went'): 1,\n",
       "         ('went', 'to'): 1,\n",
       "         ('to', 'the'): 1,\n",
       "         ('the', 'zoo'): 1,\n",
       "         ('He', 'went', 'to'): 1,\n",
       "         ('went', 'to', 'the'): 1,\n",
       "         ('to', 'the', 'zoo'): 1,\n",
       "         ('He', 'went', 'to', 'the'): 1,\n",
       "         ('went', 'to', 'the', 'zoo'): 1})"
      ]
     },
     "execution_count": 32,
     "metadata": {},
     "output_type": "execute_result"
    }
   ],
   "source": [
    "ngram_counts_hyp"
   ]
  },
  {
   "cell_type": "code",
   "execution_count": 33,
   "metadata": {},
   "outputs": [
    {
     "data": {
      "text/plain": [
       "Counter({('He',): 1,\n",
       "         ('went',): 1,\n",
       "         ('to',): 1,\n",
       "         ('the',): 1,\n",
       "         ('zoo',): 1,\n",
       "         ('He', 'went'): 1,\n",
       "         ('went', 'to'): 1,\n",
       "         ('to', 'the'): 1,\n",
       "         ('the', 'zoo'): 1,\n",
       "         ('He', 'went', 'to'): 1,\n",
       "         ('went', 'to', 'the'): 1,\n",
       "         ('to', 'the', 'zoo'): 1,\n",
       "         ('He', 'went', 'to', 'the'): 1,\n",
       "         ('went', 'to', 'the', 'zoo'): 1})"
      ]
     },
     "execution_count": 33,
     "metadata": {},
     "output_type": "execute_result"
    }
   ],
   "source": [
    "overlap = ngram_counts_ref & ngram_counts_hyp\n",
    "overlap"
   ]
  },
  {
   "cell_type": "code",
   "execution_count": 20,
   "metadata": {},
   "outputs": [
    {
     "name": "stdout",
     "output_type": "stream",
     "text": [
      "('He',)\n",
      "('went',)\n",
      "('to',)\n",
      "('the',)\n",
      "('zoo',)\n",
      "('He', 'went')\n",
      "('went', 'to')\n",
      "('to', 'the')\n",
      "('the', 'zoo')\n"
     ]
    }
   ],
   "source": [
    "for token in overlap:\n",
    "    print(token)"
   ]
  },
  {
   "cell_type": "code",
   "execution_count": 1,
   "metadata": {},
   "outputs": [],
   "source": [
    "import numpy as np"
   ]
  },
  {
   "cell_type": "code",
   "execution_count": 2,
   "metadata": {},
   "outputs": [
    {
     "name": "stderr",
     "output_type": "stream",
     "text": [
      "C:\\Users\\under\\AppData\\Local\\Continuum\\anaconda3\\lib\\site-packages\\ipykernel_launcher.py:1: RuntimeWarning: divide by zero encountered in log\n",
      "  \"\"\"Entry point for launching an IPython kernel.\n"
     ]
    },
    {
     "data": {
      "text/plain": [
       "-inf"
      ]
     },
     "execution_count": 2,
     "metadata": {},
     "output_type": "execute_result"
    }
   ],
   "source": [
    "np.log(0)"
   ]
  },
  {
   "cell_type": "code",
   "execution_count": 6,
   "metadata": {},
   "outputs": [],
   "source": [
    "a = np.array([10,1,2,3])"
   ]
  },
  {
   "cell_type": "code",
   "execution_count": 7,
   "metadata": {},
   "outputs": [
    {
     "data": {
      "text/plain": [
       "1"
      ]
     },
     "execution_count": 7,
     "metadata": {},
     "output_type": "execute_result"
    }
   ],
   "source": [
    "min(a)"
   ]
  },
  {
   "cell_type": "code",
   "execution_count": 1,
   "metadata": {
    "scrolled": true
   },
   "outputs": [
    {
     "name": "stdout",
     "output_type": "stream",
     "text": [
      "running build_ext\n",
      "copying build\\lib.win-amd64-3.7\\bleu.cp37-win_amd64.pyd -> \n"
     ]
    }
   ],
   "source": [
    "!python setup.py build_ext --inplace"
   ]
  },
  {
   "cell_type": "code",
   "execution_count": null,
   "metadata": {},
   "outputs": [],
   "source": [
    "from bleu import _count_ngram\n",
    "from bleu import bleu_sentence\n",
    "from bleu import _test\n",
    "from bleu import _copy_list\n",
    "from bleu import _get_overlap\n",
    "from bleu import bleu_corpus"
   ]
  },
  {
   "cell_type": "code",
   "execution_count": 2,
   "metadata": {},
   "outputs": [],
   "source": [
    "ref = ['He', 'went', 'to', 'the', 'zoo']\n",
    "cand = ['He', 'went', 'to', 'the', 'zoo']"
   ]
  },
  {
   "cell_type": "code",
   "execution_count": 4,
   "metadata": {},
   "outputs": [
    {
     "data": {
      "text/plain": [
       "{b'He ': 1,\n",
       " b'He went ': 1,\n",
       " b'the ': 1,\n",
       " b'the zoo ': 1,\n",
       " b'to ': 1,\n",
       " b'to the ': 1,\n",
       " b'went ': 1,\n",
       " b'went to ': 1,\n",
       " b'zoo ': 1}"
      ]
     },
     "execution_count": 4,
     "metadata": {},
     "output_type": "execute_result"
    }
   ],
   "source": [
    "r = _test(ref,2)\n",
    "c = _test(cand,2)\n",
    "_get_overlap(r,c)"
   ]
  },
  {
   "cell_type": "code",
   "execution_count": 4,
   "metadata": {},
   "outputs": [
    {
     "data": {
      "text/plain": [
       "[b'I', b'went', b'to', b'a', b'zoo']"
      ]
     },
     "execution_count": 4,
     "metadata": {},
     "output_type": "execute_result"
    }
   ],
   "source": [
    "_copy_list(ref)"
   ]
  },
  {
   "cell_type": "code",
   "execution_count": 5,
   "metadata": {},
   "outputs": [
    {
     "data": {
      "text/plain": [
       "{b'I ': 1,\n",
       " b'I went ': 1,\n",
       " b'a ': 1,\n",
       " b'a zoo ': 1,\n",
       " b'to ': 1,\n",
       " b'to a ': 1,\n",
       " b'went ': 1,\n",
       " b'went to ': 1,\n",
       " b'zoo ': 1}"
      ]
     },
     "execution_count": 5,
     "metadata": {},
     "output_type": "execute_result"
    }
   ],
   "source": [
    "_test(ref,2)"
   ]
  },
  {
   "cell_type": "code",
   "execution_count": 6,
   "metadata": {},
   "outputs": [
    {
     "data": {
      "text/plain": [
       "{b'He ': 1,\n",
       " b'He went ': 1,\n",
       " b'the ': 1,\n",
       " b'the zoo ': 1,\n",
       " b'to ': 1,\n",
       " b'to the ': 1,\n",
       " b'went ': 1,\n",
       " b'went to ': 1,\n",
       " b'zoo ': 1}"
      ]
     },
     "execution_count": 6,
     "metadata": {},
     "output_type": "execute_result"
    }
   ],
   "source": [
    "_test(cand,2)"
   ]
  },
  {
   "cell_type": "code",
   "execution_count": 4,
   "metadata": {},
   "outputs": [
    {
     "data": {
      "text/plain": [
       "[1.0, 1.0, 1.0]"
      ]
     },
     "execution_count": 4,
     "metadata": {},
     "output_type": "execute_result"
    }
   ],
   "source": [
    "bleu_sentence(ref, cand, 4)"
   ]
  },
  {
   "cell_type": "code",
   "execution_count": 27,
   "metadata": {},
   "outputs": [
    {
     "data": {
      "text/plain": [
       "[0.6619501709938049, 1.0, 0.6619501709938049]"
      ]
     },
     "execution_count": 27,
     "metadata": {},
     "output_type": "execute_result"
    }
   ],
   "source": [
    "r"
   ]
  },
  {
   "cell_type": "code",
   "execution_count": 28,
   "metadata": {},
   "outputs": [
    {
     "data": {
      "text/plain": [
       "array([5, 4, 3, 2])"
      ]
     },
     "execution_count": 28,
     "metadata": {},
     "output_type": "execute_result"
    }
   ],
   "source": [
    "import numpy as np\n",
    "np.exp(-.4)\n",
    "np.exp(0)\n",
    "5 - np.arange(4)"
   ]
  },
  {
   "cell_type": "code",
   "execution_count": 2,
   "metadata": {},
   "outputs": [],
   "source": [
    "from bleu import bleu_points\n",
    "from bleu import bleu_sentence\n",
    "from bleu import bleu_corpus"
   ]
  },
  {
   "cell_type": "code",
   "execution_count": 3,
   "metadata": {},
   "outputs": [],
   "source": [
    "ref1 = 'He went to the zoo but could not find any falcons'\n",
    "cand1 = 'I went to the caffe but could not find any falcons'\n",
    "ref2 = 'He went to the zoo and could not find any falcons'\n",
    "cand2 = 'I went to the caffe but could not find any falcons'\n",
    "ref = [ref1.split(), ref2.split()]\n",
    "cand = [cand1.split(), cand2.split()]"
   ]
  },
  {
   "cell_type": "code",
   "execution_count": 4,
   "metadata": {},
   "outputs": [
    {
     "data": {
      "text/plain": [
       "(0.5292853713035583, 1.0, 0.5292853713035583)"
      ]
     },
     "execution_count": 4,
     "metadata": {},
     "output_type": "execute_result"
    }
   ],
   "source": [
    "from torchtext.data import bleu_score\n",
    "bleu_score(ref, cand, 4)"
   ]
  },
  {
   "cell_type": "code",
   "execution_count": 5,
   "metadata": {},
   "outputs": [
    {
     "data": {
      "text/plain": [
       "[0.5292853713035583, 1.0, 0.5292853713035583]"
      ]
     },
     "execution_count": 5,
     "metadata": {},
     "output_type": "execute_result"
    }
   ],
   "source": [
    "bleu_corpus(ref,cand,4)"
   ]
  },
  {
   "cell_type": "code",
   "execution_count": 6,
   "metadata": {},
   "outputs": [
    {
     "data": {
      "text/plain": [
       "0"
      ]
     },
     "execution_count": 6,
     "metadata": {},
     "output_type": "execute_result"
    }
   ],
   "source": [
    "from nltk.translate import bleu_score\n",
    "bleu_score.corpus_bleu(ref, cand, weights=(0.25, 0.25, 0.25, 0.25))"
   ]
  },
  {
   "cell_type": "code",
   "execution_count": 7,
   "metadata": {},
   "outputs": [
    {
     "name": "stdout",
     "output_type": "stream",
     "text": [
      "[0.5877283811569214, 1.0, 0.5877283811569214]\n",
      "[0.4692470133304596, 1.0, 0.4692470133304596]\n"
     ]
    }
   ],
   "source": [
    "for r, c in zip(ref,cand):\n",
    "    print(bleu_sentence(r,c,4))"
   ]
  },
  {
   "cell_type": "code",
   "execution_count": 8,
   "metadata": {},
   "outputs": [
    {
     "name": "stdout",
     "output_type": "stream",
     "text": [
      "0.587728372510532\n",
      "0.46924700641056\n"
     ]
    }
   ],
   "source": [
    "from nltk.translate import bleu_score\n",
    "for r, c in zip(ref,cand):\n",
    "    print(bleu_score.sentence_bleu([r],c, weights=(0.25, 0.25, 0.25, 0.25)))"
   ]
  },
  {
   "cell_type": "code",
   "execution_count": 9,
   "metadata": {},
   "outputs": [
    {
     "data": {
      "text/plain": [
       "0.528487689460546"
      ]
     },
     "execution_count": 9,
     "metadata": {},
     "output_type": "execute_result"
    }
   ],
   "source": [
    "(0.587728372510532+0.46924700641056)/2"
   ]
  },
  {
   "cell_type": "code",
   "execution_count": 8,
   "metadata": {},
   "outputs": [
    {
     "data": {
      "text/plain": [
       "array([[0.5877284, 1.       , 0.5877284],\n",
       "       [0.469247 , 1.       , 0.469247 ]], dtype=float32)"
      ]
     },
     "execution_count": 8,
     "metadata": {},
     "output_type": "execute_result"
    }
   ],
   "source": [
    "bleu_points(ref,cand,4)"
   ]
  },
  {
   "cell_type": "code",
   "execution_count": 1,
   "metadata": {},
   "outputs": [],
   "source": [
    "from bleu import _test\n",
    "from collections import Counter"
   ]
  },
  {
   "cell_type": "code",
   "execution_count": 6,
   "metadata": {},
   "outputs": [],
   "source": [
    "s = ['I','have','fun']"
   ]
  },
  {
   "cell_type": "code",
   "execution_count": 7,
   "metadata": {},
   "outputs": [
    {
     "data": {
      "text/plain": [
       "Counter({('I',): 1,\n",
       "         ('have',): 1,\n",
       "         ('fun',): 1,\n",
       "         ('I', 'have'): 1,\n",
       "         ('have', 'fun'): 1,\n",
       "         ('I', 'have', 'fun'): 1})"
      ]
     },
     "execution_count": 7,
     "metadata": {},
     "output_type": "execute_result"
    }
   ],
   "source": [
    "max_order = 4\n",
    "ngram_counts = Counter()\n",
    "for order in range(1, max_order + 1):\n",
    "    for i in range(0, len(s) - order + 1):\n",
    "        ngram = tuple(s[i:i+order])\n",
    "        ngram_counts[ngram] += 1\n",
    "ngram_counts"
   ]
  },
  {
   "cell_type": "code",
   "execution_count": 8,
   "metadata": {},
   "outputs": [
    {
     "data": {
      "text/plain": [
       "{b'I ': 1,\n",
       " b'I have ': 1,\n",
       " b'I have fun ': 1,\n",
       " b'fun ': 1,\n",
       " b'have ': 1,\n",
       " b'have fun ': 1}"
      ]
     },
     "execution_count": 8,
     "metadata": {},
     "output_type": "execute_result"
    }
   ],
   "source": [
    "_test(s,4)"
   ]
  },
  {
   "cell_type": "code",
   "execution_count": 12,
   "metadata": {},
   "outputs": [
    {
     "data": {
      "text/plain": [
       "array([2, 4])"
      ]
     },
     "execution_count": 12,
     "metadata": {},
     "output_type": "execute_result"
    }
   ],
   "source": [
    "import numpy as np\n",
    "a = np.array([0,2,4,0])\n",
    "a[np.nonzero(a)]"
   ]
  },
  {
   "cell_type": "code",
   "execution_count": null,
   "metadata": {},
   "outputs": [],
   "source": []
  },
  {
   "cell_type": "code",
   "execution_count": null,
   "metadata": {},
   "outputs": [],
   "source": []
  }
 ],
 "metadata": {
  "kernelspec": {
   "display_name": "Python 3",
   "language": "python",
   "name": "python3"
  },
  "language_info": {
   "codemirror_mode": {
    "name": "ipython",
    "version": 3
   },
   "file_extension": ".py",
   "mimetype": "text/x-python",
   "name": "python",
   "nbconvert_exporter": "python",
   "pygments_lexer": "ipython3",
   "version": "3.7.3"
  }
 },
 "nbformat": 4,
 "nbformat_minor": 2
}
