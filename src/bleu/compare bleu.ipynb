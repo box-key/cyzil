{
 "cells": [
  {
   "cell_type": "code",
   "execution_count": 1,
   "metadata": {},
   "outputs": [],
   "source": [
    "# Initialization Cell\n",
    "path = 'C:\\\\Users\\\\under\\\\Jupyter-Projects\\\\My-Research\\\\On-the-Curse-of-Sentence-Length\\\\data-bin\\\\out_balanced_conv.txt'"
   ]
  },
  {
   "cell_type": "code",
   "execution_count": 4,
   "metadata": {},
   "outputs": [
    {
     "name": "stdout",
     "output_type": "stream",
     "text": [
      "C:\\Users\\under\\GitHub\\On-the-Curse-of-Sentence-Length\n"
     ]
    }
   ],
   "source": [
    "# %cd ..\n",
    "from bleu import bleu\n",
    "from utils import preprocess\n",
    "import time"
   ]
  },
  {
   "cell_type": "code",
   "execution_count": 5,
   "metadata": {},
   "outputs": [],
   "source": [
    "def calc_time(start_time):\n",
    "    total = time.time() - start_time\n",
    "    print(f'{int(total/60)} minutes and {int(total%60)} seconds')"
   ]
  },
  {
   "cell_type": "code",
   "execution_count": 6,
   "metadata": {},
   "outputs": [
    {
     "data": {
      "text/plain": [
       "(49254, 3)"
      ]
     },
     "execution_count": 6,
     "metadata": {},
     "output_type": "execute_result"
    }
   ],
   "source": [
    "output = preprocess.loadFairseqOutput(path)\n",
    "output.shape"
   ]
  },
  {
   "cell_type": "code",
   "execution_count": 8,
   "metadata": {},
   "outputs": [
    {
     "name": "stdout",
     "output_type": "stream",
     "text": [
      "(0.1851784884929657, 1.0, 0.1851784884929657)\n",
      "3 minutes and 12 seconds\n"
     ]
    }
   ],
   "source": [
    "from torchtext.data import bleu_score\n",
    "start_time = time.time()\n",
    "print(bleu_score(output[:,2], output[:,1]))\n",
    "calc_time(start_time)"
   ]
  },
  {
   "cell_type": "code",
   "execution_count": 10,
   "metadata": {},
   "outputs": [
    {
     "name": "stderr",
     "output_type": "stream",
     "text": [
      "C:\\Users\\under\\AppData\\Local\\Continuum\\anaconda3\\lib\\site-packages\\nltk\\translate\\bleu_score.py:523: UserWarning: \n",
      "The hypothesis contains 0 counts of 3-gram overlaps.\n",
      "Therefore the BLEU score evaluates to 0, independently of\n",
      "how many N-gram overlaps of lower order it contains.\n",
      "Consider using lower n-gram order or use SmoothingFunction()\n",
      "  warnings.warn(_msg)\n",
      "C:\\Users\\under\\AppData\\Local\\Continuum\\anaconda3\\lib\\site-packages\\nltk\\translate\\bleu_score.py:523: UserWarning: \n",
      "The hypothesis contains 0 counts of 4-gram overlaps.\n",
      "Therefore the BLEU score evaluates to 0, independently of\n",
      "how many N-gram overlaps of lower order it contains.\n",
      "Consider using lower n-gram order or use SmoothingFunction()\n",
      "  warnings.warn(_msg)\n"
     ]
    },
    {
     "name": "stdout",
     "output_type": "stream",
     "text": [
      "3.099368733130856e-156\n",
      "6 minutes and 5 seconds\n"
     ]
    }
   ],
   "source": [
    "from nltk.translate import bleu_score\n",
    "start_time = time.time()\n",
    "print(bleu_score.corpus_bleu(output[:,2], output[:,1]))\n",
    "calc_time(start_time)"
   ]
  },
  {
   "cell_type": "code",
   "execution_count": 9,
   "metadata": {},
   "outputs": [
    {
     "name": "stdout",
     "output_type": "stream",
     "text": [
      "[0.19552338123321533, 0.9473081827163696, 0.1852208971977234]\n",
      "1 minutes and 19 seconds\n"
     ]
    }
   ],
   "source": [
    "start_time = time.time()\n",
    "print(bleu.bleu_corpus(output[:,2].tolist(), output[:,1].tolist(), 4))\n",
    "calc_time(start_time)"
   ]
  },
  {
   "cell_type": "code",
   "execution_count": null,
   "metadata": {},
   "outputs": [],
   "source": []
  }
 ],
 "metadata": {
  "kernelspec": {
   "display_name": "Python 3",
   "language": "python",
   "name": "python3"
  },
  "language_info": {
   "codemirror_mode": {
    "name": "ipython",
    "version": 3
   },
   "file_extension": ".py",
   "mimetype": "text/x-python",
   "name": "python",
   "nbconvert_exporter": "python",
   "pygments_lexer": "ipython3",
   "version": "3.7.3"
  }
 },
 "nbformat": 4,
 "nbformat_minor": 2
}
