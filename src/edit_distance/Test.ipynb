{
 "cells": [
  {
   "cell_type": "code",
   "execution_count": 1,
   "metadata": {
    "scrolled": true
   },
   "outputs": [
    {
     "name": "stdout",
     "output_type": "stream",
     "text": [
      "Compiling edit_distance_modified.pyx because it changed.\n",
      "[1/1] Cythonizing edit_distance_modified.pyx\n",
      "running build_ext\n",
      "building 'edit_distance' extension\n",
      "creating build\n",
      "creating build\\temp.win-amd64-3.7\n",
      "creating build\\temp.win-amd64-3.7\\Release\n",
      "C:\\Program Files (x86)\\Microsoft Visual Studio\\2019\\Community\\VC\\Tools\\MSVC\\14.24.28314\\bin\\HostX86\\x64\\cl.exe /c /nologo /Ox /W3 /GL /DNDEBUG /MT -IC:\\Users\\under\\AppData\\Local\\Continuum\\anaconda3\\include -IC:\\Users\\under\\AppData\\Local\\Continuum\\anaconda3\\include \"-IC:\\Program Files (x86)\\Microsoft Visual Studio\\2019\\Community\\VC\\Tools\\MSVC\\14.24.28314\\ATLMFC\\include\" \"-IC:\\Program Files (x86)\\Microsoft Visual Studio\\2019\\Community\\VC\\Tools\\MSVC\\14.24.28314\\include\" \"-IC:\\Program Files (x86)\\Windows Kits\\10\\include\\10.0.18362.0\\ucrt\" \"-IC:\\Program Files (x86)\\Windows Kits\\10\\include\\10.0.18362.0\\shared\" \"-IC:\\Program Files (x86)\\Windows Kits\\10\\include\\10.0.18362.0\\um\" \"-IC:\\Program Files (x86)\\Windows Kits\\10\\include\\10.0.18362.0\\winrt\" \"-IC:\\Program Files (x86)\\Windows Kits\\10\\include\\10.0.18362.0\\cppwinrt\" /EHsc /Tpedit_distance_modified.cpp /Fobuild\\temp.win-amd64-3.7\\Release\\edit_distance_modified.obj\n",
      "edit_distance_modified.cpp\n",
      "edit_distance_modified.cpp(1712): warning C4244: '=': conversion from 'Py_ssize_t' to 'int', possible loss of data\n",
      "edit_distance_modified.cpp(1726): warning C4244: '=': conversion from 'Py_ssize_t' to 'int', possible loss of data\n",
      "creating C:\\Users\\under\\Jupyter-Projects\\My-Research\\On-the-Curse-of-Sentence-Length\\utils\\edit_distance\\build\\lib.win-amd64-3.7\n",
      "C:\\Program Files (x86)\\Microsoft Visual Studio\\2019\\Community\\VC\\Tools\\MSVC\\14.24.28314\\bin\\HostX86\\x64\\link.exe /nologo /INCREMENTAL:NO /LTCG /nodefaultlib:libucrt.lib ucrt.lib /DLL /MANIFEST:EMBED,ID=2 /MANIFESTUAC:NO /LIBPATH:C:\\Users\\under\\AppData\\Local\\Continuum\\anaconda3\\libs /LIBPATH:C:\\Users\\under\\AppData\\Local\\Continuum\\anaconda3\\PCbuild\\amd64 \"/LIBPATH:C:\\Program Files (x86)\\Microsoft Visual Studio\\2019\\Community\\VC\\Tools\\MSVC\\14.24.28314\\ATLMFC\\lib\\x64\" \"/LIBPATH:C:\\Program Files (x86)\\Microsoft Visual Studio\\2019\\Community\\VC\\Tools\\MSVC\\14.24.28314\\lib\\x64\" \"/LIBPATH:C:\\Program Files (x86)\\Windows Kits\\10\\lib\\10.0.18362.0\\ucrt\\x64\" \"/LIBPATH:C:\\Program Files (x86)\\Windows Kits\\10\\lib\\10.0.18362.0\\um\\x64\" /EXPORT:PyInit_edit_distance build\\temp.win-amd64-3.7\\Release\\edit_distance_modified.obj /OUT:build\\lib.win-amd64-3.7\\edit_distance.cp37-win_amd64.pyd /IMPLIB:build\\temp.win-amd64-3.7\\Release\\edit_distance.cp37-win_amd64.lib\n",
      "   Creating library build\\temp.win-amd64-3.7\\Release\\edit_distance.cp37-win_amd64.lib and object build\\temp.win-amd64-3.7\\Release\\edit_distance.cp37-win_amd64.exp\n",
      "Generating code\n",
      "Finished generating code\n",
      "copying build\\lib.win-amd64-3.7\\edit_distance.cp37-win_amd64.pyd -> \n"
     ]
    },
    {
     "name": "stderr",
     "output_type": "stream",
     "text": [
      "C:\\Users\\under\\AppData\\Local\\Continuum\\anaconda3\\lib\\site-packages\\Cython\\Compiler\\Main.py:367: FutureWarning: Cython directive 'language_level' not set, using 2 for now (Py2). This will change in a later release! File: C:\\Users\\under\\Jupyter-Projects\\My-Research\\On-the-Curse-of-Sentence-Length\\utils\\edit_distance\\edit_distance_modified.pyx\n",
      "  tree = Parsing.p_module(s, pxd, full_module_name)\n",
      "error: could not delete 'edit_distance.cp37-win_amd64.pyd': Access is denied\n"
     ]
    }
   ],
   "source": [
    "!python setup.py build_ext --inplace"
   ]
  },
  {
   "cell_type": "code",
   "execution_count": 2,
   "metadata": {},
   "outputs": [],
   "source": [
    "from edit_distance import edit_distance_by_token"
   ]
  },
  {
   "cell_type": "code",
   "execution_count": 11,
   "metadata": {},
   "outputs": [
    {
     "data": {
      "text/plain": [
       "1"
      ]
     },
     "execution_count": 11,
     "metadata": {},
     "output_type": "execute_result"
    }
   ],
   "source": [
    "sen1 = ['I', 'love', 'apple']\n",
    "sen2 = ['I', 'love', 'orange']\n",
    "edit_distance_sentence(sen1, sen2)"
   ]
  },
  {
   "cell_type": "code",
   "execution_count": 4,
   "metadata": {},
   "outputs": [
    {
     "data": {
      "text/plain": [
       "4"
      ]
     },
     "execution_count": 4,
     "metadata": {},
     "output_type": "execute_result"
    }
   ],
   "source": [
    "sen1 = ['I', 'like', 'apple','and','apple']\n",
    "sen2 = ['I', 'love', 'orange']\n",
    "edit_distance_by_token(sen1, sen2)"
   ]
  },
  {
   "cell_type": "code",
   "execution_count": 12,
   "metadata": {},
   "outputs": [
    {
     "data": {
      "text/plain": [
       "4"
      ]
     },
     "execution_count": 12,
     "metadata": {},
     "output_type": "execute_result"
    }
   ],
   "source": [
    "sen1 = ['I', 'like', 'apple','and','apple']\n",
    "sen2 = ['I', 'love', 'orange']\n",
    "edit_distance_sentence(sen1, sen2)"
   ]
  },
  {
   "cell_type": "code",
   "execution_count": 5,
   "metadata": {},
   "outputs": [
    {
     "data": {
      "text/plain": [
       "3"
      ]
     },
     "execution_count": 5,
     "metadata": {},
     "output_type": "execute_result"
    }
   ],
   "source": [
    "sen1 = ['I', 'like', 'apple','and','iphone']\n",
    "sen2 = ['I', 'love', 'iphone']\n",
    "edit_distance_by_token(sen1, sen2)"
   ]
  },
  {
   "cell_type": "code",
   "execution_count": 5,
   "metadata": {},
   "outputs": [
    {
     "data": {
      "text/plain": [
       "6"
      ]
     },
     "execution_count": 5,
     "metadata": {},
     "output_type": "execute_result"
    }
   ],
   "source": [
    "sen1 = ['I', 'like', 'apple','and','iphone', 'I', 'like', 'apple','and','iphone', 'I', 'like', 'apple','and','iphone']\n",
    "sen2 = ['but','but', 'I', 'like', 'apple','but','iphone', 'I', 'like', 'apple','and','iphone']\n",
    "edit_distance_by_token(sen1, sen2)"
   ]
  },
  {
   "cell_type": "code",
   "execution_count": 8,
   "metadata": {},
   "outputs": [
    {
     "data": {
      "text/plain": [
       "5"
      ]
     },
     "execution_count": 8,
     "metadata": {},
     "output_type": "execute_result"
    }
   ],
   "source": [
    "sen1 = ['I', 'love', 'apple']\n",
    "sen2 = ['but','but', 'I', 'like', 'apple','but','iphone']\n",
    "edit_distance_by_token(sen1, sen2)"
   ]
  },
  {
   "cell_type": "code",
   "execution_count": 13,
   "metadata": {},
   "outputs": [
    {
     "data": {
      "text/plain": [
       "5"
      ]
     },
     "execution_count": 13,
     "metadata": {},
     "output_type": "execute_result"
    }
   ],
   "source": [
    "sen1 = ['I', 'love', 'apple']\n",
    "sen2 = ['but','but', 'I', 'like', 'apple','but','iphone']\n",
    "edit_distance_sentence(sen1, sen2)"
   ]
  },
  {
   "cell_type": "code",
   "execution_count": 9,
   "metadata": {},
   "outputs": [
    {
     "data": {
      "text/plain": [
       "5"
      ]
     },
     "execution_count": 9,
     "metadata": {},
     "output_type": "execute_result"
    }
   ],
   "source": [
    "sen1 = ['but','but', 'I', 'like', 'apple','but','iphone']\n",
    "sen2 = ['I', 'love', 'apple']\n",
    "edit_distance_by_token(sen1, sen2)"
   ]
  },
  {
   "cell_type": "code",
   "execution_count": 14,
   "metadata": {},
   "outputs": [
    {
     "data": {
      "text/plain": [
       "5"
      ]
     },
     "execution_count": 14,
     "metadata": {},
     "output_type": "execute_result"
    }
   ],
   "source": [
    "sen1 = ['but','but', 'I', 'like', 'apple','but','iphone']\n",
    "sen2 = ['I', 'love', 'apple']\n",
    "edit_distance_sentence(sen1, sen2)"
   ]
  },
  {
   "cell_type": "code",
   "execution_count": 5,
   "metadata": {},
   "outputs": [],
   "source": [
    "from edit_distance import edit_distance_points\n",
    "from edit_distance import edit_distance_sentence\n",
    "from edit_distance import edit_distance_corpus"
   ]
  },
  {
   "cell_type": "code",
   "execution_count": 6,
   "metadata": {},
   "outputs": [],
   "source": [
    "ref1 = 'He went to the zoo but could not find any falcons'\n",
    "cand1 = 'I went to the caffe but could not find any falcons'\n",
    "ref2 = 'He went to the zoo and could not find any falcons'\n",
    "cand2 = 'I went to the caffe but could not find any falcons'\n",
    "ref = [ref1.split(), ref2.split()]\n",
    "cand = [cand1.split(), cand2.split()]"
   ]
  },
  {
   "cell_type": "code",
   "execution_count": 7,
   "metadata": {},
   "outputs": [
    {
     "data": {
      "text/plain": [
       "array([[2.        , 0.18181819],\n",
       "       [3.        , 0.27272728]], dtype=float32)"
      ]
     },
     "execution_count": 7,
     "metadata": {},
     "output_type": "execute_result"
    }
   ],
   "source": [
    "edit_distance_points(ref,cand)"
   ]
  },
  {
   "cell_type": "code",
   "execution_count": 8,
   "metadata": {},
   "outputs": [
    {
     "name": "stdout",
     "output_type": "stream",
     "text": [
      "2 3\n"
     ]
    }
   ],
   "source": [
    "print(edit_distance_sentence(ref[0],cand[0]),\n",
    "      edit_distance_sentence(ref[1],cand[1]))"
   ]
  },
  {
   "cell_type": "code",
   "execution_count": 9,
   "metadata": {},
   "outputs": [
    {
     "data": {
      "text/plain": [
       "[2.5, 0.22727273404598236]"
      ]
     },
     "execution_count": 9,
     "metadata": {},
     "output_type": "execute_result"
    }
   ],
   "source": [
    "edit_distance_corpus(ref,cand)"
   ]
  },
  {
   "cell_type": "code",
   "execution_count": 11,
   "metadata": {},
   "outputs": [
    {
     "data": {
      "text/plain": [
       "0.227272735"
      ]
     },
     "execution_count": 11,
     "metadata": {},
     "output_type": "execute_result"
    }
   ],
   "source": [
    "(0.18181819+0.27272728)/2"
   ]
  },
  {
   "cell_type": "code",
   "execution_count": null,
   "metadata": {},
   "outputs": [],
   "source": []
  }
 ],
 "metadata": {
  "kernelspec": {
   "display_name": "Python 3",
   "language": "python",
   "name": "python3"
  },
  "language_info": {
   "codemirror_mode": {
    "name": "ipython",
    "version": 3
   },
   "file_extension": ".py",
   "mimetype": "text/x-python",
   "name": "python",
   "nbconvert_exporter": "python",
   "pygments_lexer": "ipython3",
   "version": "3.7.3"
  }
 },
 "nbformat": 4,
 "nbformat_minor": 2
}
